{
 "cells": [
  {
   "cell_type": "code",
   "execution_count": null,
   "id": "981d24bc-6fce-4bad-9799-bae820f49768",
   "metadata": {},
   "outputs": [],
   "source": [
    "import cv2\n",
    "import numpy as np\n",
    "\n",
    "# Function to generate and save an 8x8 checkerboard pattern\n",
    "def save_checkerboard_image(filename, square_size_cm):\n",
    "    rows, cols = 8, 8\n",
    "    pixels_per_cm = 100  # Adjust this based on your printing resolution\n",
    "\n",
    "    square_size_px = int(square_size_cm * pixels_per_cm)\n",
    "    pattern = np.zeros((rows * square_size_px, cols * square_size_px), dtype=np.uint8) # 8 squrares x 200\n",
    "\n",
    "    for i in range(0, rows, 2): #from 0 to 6\n",
    "        for j in range(0, cols, 2):\n",
    "            pattern[i * square_size_px: (i + 1) * square_size_px, j * square_size_px: (j + 1) * square_size_px] = 255\n",
    "\n",
    "    for i in range(1, rows, 2): # from 1 to 7\n",
    "        for j in range(1, cols, 2):\n",
    "            pattern[i * square_size_px: (i + 1) * square_size_px, j * square_size_px: (j + 1) * square_size_px] = 255\n",
    "\n",
    "    cv2.imwrite(filename, pattern)\n",
    "    print(f\"Checkerboard pattern saved to: {filename}\")\n",
    "\n",
    "# Save the checkerboard pattern as an image file with 2 cm squares\n",
    "save_checkerboard_image(\"checkerboard_pattern_8x8.png\", square_size_cm=2)\n"
   ]
  },
  {
   "cell_type": "code",
   "execution_count": 1,
   "id": "5f5536b2-55f9-4bb3-abc7-46f1827870c8",
   "metadata": {},
   "outputs": [
    {
     "name": "stdout",
     "output_type": "stream",
     "text": [
      "0\n",
      "2\n",
      "4\n",
      "6\n"
     ]
    }
   ],
   "source": [
    "for i in range(0, 8, 2):\n",
    "    print(i)"
   ]
  },
  {
   "cell_type": "code",
   "execution_count": 23,
   "id": "36d66cd1-8553-4c1d-a1cc-1f87da1b16a5",
   "metadata": {},
   "outputs": [],
   "source": [
    "import numpy as np\n",
    "import cv2\n",
    "\n",
    "pattern = np.zeros((8 * 200, 8 * 200), dtype=np.uint8) # 8 squrares x 200\n",
    "for i in range(0, 4, 2): #from 0 to 6\n",
    "        for j in range(0, 4, 2):\n",
    "            pattern[i * 200: (i + 1) * 200, j * 200: (j + 1) * 200] = 255\n",
    "            cv2.imshow('Checkerboard Pattern', pattern)\n",
    "            cv2.waitKey(0)\n",
    "            cv2.destroyAllWindows()\n"
   ]
  },
  {
   "cell_type": "code",
   "execution_count": 2,
   "id": "152ad980-7558-4148-8215-e5c3a00eb800",
   "metadata": {
    "scrolled": true
   },
   "outputs": [
    {
     "name": "stdout",
     "output_type": "stream",
     "text": [
      "\"imageess\" Directory is created\n",
      "saved image number 0\n",
      "saved image number 1\n",
      "saved image number 2\n",
      "saved image number 3\n",
      "saved image number 4\n",
      "saved image number 5\n",
      "saved image number 6\n",
      "saved image number 7\n",
      "Total saved Images: 8\n"
     ]
    }
   ],
   "source": [
    "import cv2 as cv\n",
    "import os\n",
    "\n",
    "CHESS_BOARD_DIM = (7, 7)\n",
    "\n",
    "n = 0  # image_counter\n",
    "\n",
    "# checking if  images dir is exist not, if not then create images directory\n",
    "image_dir_path = \"images\"\n",
    "\n",
    "CHECK_DIR = os.path.isdir(image_dir_path)\n",
    "# if directory does not exist create\n",
    "if not CHECK_DIR:\n",
    "    os.makedirs(image_dir_path)\n",
    "    print(f'\"{image_dir_path}\" Directory is created')\n",
    "else:\n",
    "    print(f'\"{image_dir_path}\" Directory already Exists.')\n",
    "\n",
    "criteria = (cv.TERM_CRITERIA_EPS + cv.TERM_CRITERIA_MAX_ITER, 30, 0.001)\n",
    "\n",
    "\n",
    "def detect_checker_board(image, grayImage, criteria, boardDimension):\n",
    "    ret, corners = cv.findChessboardCorners(grayImage, boardDimension)\n",
    "    if ret == True:\n",
    "        corners1 = cv.cornerSubPix(grayImage, corners, (3, 3), (-1, -1), criteria)\n",
    "        image = cv.drawChessboardCorners(image, boardDimension, corners1, ret)\n",
    "\n",
    "    return image, ret\n",
    "\n",
    "\n",
    "cap = cv.VideoCapture(0)\n",
    "\n",
    "while True:\n",
    "    _, frame = cap.read()\n",
    "    copyFrame = frame.copy()\n",
    "    gray = cv.cvtColor(frame, cv.COLOR_BGR2GRAY)\n",
    "\n",
    "    image, board_detected = detect_checker_board(frame, gray, criteria, CHESS_BOARD_DIM)\n",
    "    # print(ret)\n",
    "    cv.putText(frame,f\"saved_img : {n}\",(30, 40),cv.FONT_HERSHEY_PLAIN,1.4,(0, 255, 0),2,cv.LINE_AA,)\n",
    "\n",
    "    cv.imshow(\"frame\", frame)\n",
    "    cv.imshow(\"copyFrame\", copyFrame)\n",
    "\n",
    "    key = cv.waitKey(1)\n",
    "\n",
    "    if key == ord(\"q\"):\n",
    "        break\n",
    "    if key == ord(\"s\") and board_detected == True:\n",
    "        # storing the checker board image\n",
    "        cv.imwrite(f\"{image_dir_path}/image{n}.png\", copyFrame)\n",
    "\n",
    "        print(f\"saved image number {n}\")\n",
    "        n += 1  # incrementing the image counter\n",
    "cap.release()\n",
    "cv.destroyAllWindows()\n",
    "\n",
    "print(\"Total saved Images:\", n)"
   ]
  },
  {
   "cell_type": "code",
   "execution_count": 5,
   "id": "57b10303-a68e-480c-a2b3-9eeb8d732c60",
   "metadata": {},
   "outputs": [
    {
     "name": "stdout",
     "output_type": "stream",
     "text": [
      "\"calib_data\" Directory already Exists.\n",
      "[[  0.   0.   0.]\n",
      " [ 20.   0.   0.]\n",
      " [ 40.   0.   0.]\n",
      " [ 60.   0.   0.]\n",
      " [ 80.   0.   0.]\n",
      " [100.   0.   0.]\n",
      " [120.   0.   0.]\n",
      " [  0.  20.   0.]\n",
      " [ 20.  20.   0.]\n",
      " [ 40.  20.   0.]\n",
      " [ 60.  20.   0.]\n",
      " [ 80.  20.   0.]\n",
      " [100.  20.   0.]\n",
      " [120.  20.   0.]\n",
      " [  0.  40.   0.]\n",
      " [ 20.  40.   0.]\n",
      " [ 40.  40.   0.]\n",
      " [ 60.  40.   0.]\n",
      " [ 80.  40.   0.]\n",
      " [100.  40.   0.]\n",
      " [120.  40.   0.]\n",
      " [  0.  60.   0.]\n",
      " [ 20.  60.   0.]\n",
      " [ 40.  60.   0.]\n",
      " [ 60.  60.   0.]\n",
      " [ 80.  60.   0.]\n",
      " [100.  60.   0.]\n",
      " [120.  60.   0.]\n",
      " [  0.  80.   0.]\n",
      " [ 20.  80.   0.]\n",
      " [ 40.  80.   0.]\n",
      " [ 60.  80.   0.]\n",
      " [ 80.  80.   0.]\n",
      " [100.  80.   0.]\n",
      " [120.  80.   0.]\n",
      " [  0. 100.   0.]\n",
      " [ 20. 100.   0.]\n",
      " [ 40. 100.   0.]\n",
      " [ 60. 100.   0.]\n",
      " [ 80. 100.   0.]\n",
      " [100. 100.   0.]\n",
      " [120. 100.   0.]\n",
      " [  0. 120.   0.]\n",
      " [ 20. 120.   0.]\n",
      " [ 40. 120.   0.]\n",
      " [ 60. 120.   0.]\n",
      " [ 80. 120.   0.]\n",
      " [100. 120.   0.]\n",
      " [120. 120.   0.]]\n",
      "image0.png\n",
      "image1.png\n",
      "image2.png\n",
      "image3.png\n",
      "image4.png\n",
      "image5.png\n",
      "image6.png\n",
      "image7.png\n",
      "calibrated\n",
      "duming the data into one files using numpy \n"
     ]
    }
   ],
   "source": [
    "import cv2 as cv\n",
    "import os\n",
    "import numpy as np\n",
    "\n",
    "# Checker board size\n",
    "CHESS_BOARD_DIM = (7, 7)\n",
    "\n",
    "# The size of Square in the checker board.\n",
    "SQUARE_SIZE = 20  # millimeters\n",
    "\n",
    "# termination criteria\n",
    "criteria = (cv.TERM_CRITERIA_EPS + cv.TERM_CRITERIA_MAX_ITER, 30, 0.001)\n",
    "\n",
    "\n",
    "calib_data_path = \"calib_data\"\n",
    "CHECK_DIR = os.path.isdir(calib_data_path)\n",
    "\n",
    "\n",
    "if not CHECK_DIR:\n",
    "    os.makedirs(calib_data_path)\n",
    "    print(f'\"{calib_data_path}\" Directory is created')\n",
    "\n",
    "else:\n",
    "    print(f'\"{calib_data_path}\" Directory already Exists.')\n",
    "\n",
    "# prepare object points, like (0,0,0), (1,0,0), (2,0,0) ....,(6,5,0)\n",
    "obj_3D = np.zeros((CHESS_BOARD_DIM[0] * CHESS_BOARD_DIM[1], 3), np.float32)\n",
    "\n",
    "obj_3D[:, :2] = np.mgrid[0 : CHESS_BOARD_DIM[0], 0 : CHESS_BOARD_DIM[1]].T.reshape(-1, 2)\n",
    "obj_3D *= SQUARE_SIZE\n",
    "print(obj_3D)\n",
    "\n",
    "# Arrays to store object points and image points from all the images.\n",
    "obj_points_3D = []  # 3d point in real world space\n",
    "img_points_2D = []  # 2d points in image plane.\n",
    "\n",
    "# The images directory path\n",
    "image_dir_path = \"imageess\"\n",
    "\n",
    "files = os.listdir(image_dir_path)\n",
    "for file in files:\n",
    "    print(file)\n",
    "    imagePath = os.path.join(image_dir_path, file)\n",
    "    # print(imagePath)\n",
    "\n",
    "    image = cv.imread(imagePath)\n",
    "    grayScale = cv.cvtColor(image, cv.COLOR_BGR2GRAY)\n",
    "    ret, corners = cv.findChessboardCorners(image, CHESS_BOARD_DIM, None)\n",
    "    if ret == True:\n",
    "        obj_points_3D.append(obj_3D)\n",
    "        corners2 = cv.cornerSubPix(grayScale, corners, (3, 3), (-1, -1), criteria)\n",
    "        img_points_2D.append(corners2)\n",
    "\n",
    "        img = cv.drawChessboardCorners(image, CHESS_BOARD_DIM, corners2, ret)\n",
    "\n",
    "cv.destroyAllWindows()\n",
    "# h, w = image.shape[:2]\n",
    "ret, mtx, dist, rvecs, tvecs = cv.calibrateCamera(\n",
    "    obj_points_3D, img_points_2D, grayScale.shape[::-1], None, None)\n",
    "print(\"calibrated\")\n",
    "\n",
    "print(\"duming the data into one files using numpy \")\n",
    "np.savez(\n",
    "    f\"{calib_data_path}/MultiMatrix\",\n",
    "    camMatrix=mtx,\n",
    "    distCoef=dist,\n",
    "    rVector=rvecs,\n",
    "    tVector=tvecs,\n",
    ")\n"
   ]
  },
  {
   "cell_type": "code",
   "execution_count": 10,
   "id": "9f8b6e54-19e7-4a00-9624-1382552c73d6",
   "metadata": {},
   "outputs": [
    {
     "name": "stdout",
     "output_type": "stream",
     "text": [
      "loading data stored using numpy savez function\n",
      " \n",
      " \n",
      "\n",
      "loaded calibration data successfully\n"
     ]
    }
   ],
   "source": [
    "print(\"loading data stored using numpy savez function\\n \\n \\n\")\n",
    "\n",
    "data = np.load(f\"{calib_data_path}/MultiMatrix.npz\")\n",
    "\n",
    "camMatrix = data[\"camMatrix\"]\n",
    "distCof = data[\"distCoef\"]\n",
    "rVector = data[\"rVector\"]\n",
    "tVector = data[\"tVector\"]\n",
    "\n",
    "print(\"loaded calibration data successfully\")"
   ]
  },
  {
   "cell_type": "code",
   "execution_count": 11,
   "id": "eb80495f-886a-4e1c-bf01-bd230545a154",
   "metadata": {},
   "outputs": [
    {
     "data": {
      "text/plain": [
       "array([[746.01053083,   0.        , 303.74604778],\n",
       "       [  0.        , 566.69443733, 271.87291385],\n",
       "       [  0.        ,   0.        ,   1.        ]])"
      ]
     },
     "execution_count": 11,
     "metadata": {},
     "output_type": "execute_result"
    }
   ],
   "source": [
    "camMatrix"
   ]
  },
  {
   "cell_type": "code",
   "execution_count": 8,
   "id": "4db0871c-14b9-4700-979b-a729cdb24b2d",
   "metadata": {},
   "outputs": [
    {
     "data": {
      "text/plain": [
       "array([[ 0.13821325, -0.78655081,  0.03428718,  0.01617438, -2.30099568]])"
      ]
     },
     "execution_count": 8,
     "metadata": {},
     "output_type": "execute_result"
    }
   ],
   "source": [
    "distCof"
   ]
  },
  {
   "cell_type": "code",
   "execution_count": 9,
   "id": "62b999da-24d1-4c4a-9593-7627f13c9f35",
   "metadata": {},
   "outputs": [
    {
     "data": {
      "text/plain": [
       "array([[[-0.38563012],\n",
       "        [-0.19928219],\n",
       "        [ 0.1507342 ]],\n",
       "\n",
       "       [[ 0.17394473],\n",
       "        [ 0.87245276],\n",
       "        [ 1.33787587]],\n",
       "\n",
       "       [[-0.03493166],\n",
       "        [-0.28121377],\n",
       "        [ 1.45447057]],\n",
       "\n",
       "       [[ 0.06588886],\n",
       "        [ 0.09792278],\n",
       "        [ 0.02363187]],\n",
       "\n",
       "       [[ 0.75809488],\n",
       "        [ 0.02486846],\n",
       "        [ 0.08954453]],\n",
       "\n",
       "       [[ 0.21730784],\n",
       "        [-0.63985962],\n",
       "        [ 0.07184427]],\n",
       "\n",
       "       [[-0.47244118],\n",
       "        [ 0.45756452],\n",
       "        [-1.47086064]],\n",
       "\n",
       "       [[ 0.0968573 ],\n",
       "        [-0.11649727],\n",
       "        [ 1.52257915]]])"
      ]
     },
     "execution_count": 9,
     "metadata": {},
     "output_type": "execute_result"
    }
   ],
   "source": [
    "rVector"
   ]
  },
  {
   "cell_type": "code",
   "execution_count": 7,
   "id": "4b0ce137-7f5d-47eb-8378-4e704da853e3",
   "metadata": {},
   "outputs": [
    {
     "data": {
      "text/plain": [
       "array([[746.01053083,   0.        , 303.74604778],\n",
       "       [  0.        , 566.69443733, 271.87291385],\n",
       "       [  0.        ,   0.        ,   1.        ]])"
      ]
     },
     "execution_count": 7,
     "metadata": {},
     "output_type": "execute_result"
    }
   ],
   "source": [
    "camMatrix"
   ]
  },
  {
   "cell_type": "code",
   "execution_count": 4,
   "id": "52c429cf-c0cf-43c9-b534-7f5e89b0ee48",
   "metadata": {},
   "outputs": [
    {
     "data": {
      "text/plain": [
       "array([[  0.,   0.,   0.],\n",
       "       [ 20.,   0.,   0.],\n",
       "       [ 40.,   0.,   0.],\n",
       "       [ 60.,   0.,   0.],\n",
       "       [ 80.,   0.,   0.],\n",
       "       [100.,   0.,   0.],\n",
       "       [120.,   0.,   0.],\n",
       "       [  0.,  20.,   0.],\n",
       "       [ 20.,  20.,   0.],\n",
       "       [ 40.,  20.,   0.],\n",
       "       [ 60.,  20.,   0.],\n",
       "       [ 80.,  20.,   0.],\n",
       "       [100.,  20.,   0.],\n",
       "       [120.,  20.,   0.],\n",
       "       [  0.,  40.,   0.],\n",
       "       [ 20.,  40.,   0.],\n",
       "       [ 40.,  40.,   0.],\n",
       "       [ 60.,  40.,   0.],\n",
       "       [ 80.,  40.,   0.],\n",
       "       [100.,  40.,   0.],\n",
       "       [120.,  40.,   0.],\n",
       "       [  0.,  60.,   0.],\n",
       "       [ 20.,  60.,   0.],\n",
       "       [ 40.,  60.,   0.],\n",
       "       [ 60.,  60.,   0.],\n",
       "       [ 80.,  60.,   0.],\n",
       "       [100.,  60.,   0.],\n",
       "       [120.,  60.,   0.],\n",
       "       [  0.,  80.,   0.],\n",
       "       [ 20.,  80.,   0.],\n",
       "       [ 40.,  80.,   0.],\n",
       "       [ 60.,  80.,   0.],\n",
       "       [ 80.,  80.,   0.],\n",
       "       [100.,  80.,   0.],\n",
       "       [120.,  80.,   0.],\n",
       "       [  0., 100.,   0.],\n",
       "       [ 20., 100.,   0.],\n",
       "       [ 40., 100.,   0.],\n",
       "       [ 60., 100.,   0.],\n",
       "       [ 80., 100.,   0.],\n",
       "       [100., 100.,   0.],\n",
       "       [120., 100.,   0.],\n",
       "       [  0., 120.,   0.],\n",
       "       [ 20., 120.,   0.],\n",
       "       [ 40., 120.,   0.],\n",
       "       [ 60., 120.,   0.],\n",
       "       [ 80., 120.,   0.],\n",
       "       [100., 120.,   0.],\n",
       "       [120., 120.,   0.]], dtype=float32)"
      ]
     },
     "execution_count": 4,
     "metadata": {},
     "output_type": "execute_result"
    }
   ],
   "source": [
    "import numpy as np\n",
    "\n",
    "objp = np.zeros((7*7,3), np.float32)\n",
    "objp[:,:2] = np.mgrid[0:7,0:7].T.reshape(-1,2)\n",
    "objp *= 20\n",
    "objp"
   ]
  },
  {
   "cell_type": "code",
   "execution_count": 5,
   "id": "918d5a65-e71b-40d1-a1d9-664126224789",
   "metadata": {},
   "outputs": [
    {
     "data": {
      "text/plain": [
       "array([[0., 0.],\n",
       "       [1., 0.],\n",
       "       [2., 0.],\n",
       "       [3., 0.],\n",
       "       [4., 0.],\n",
       "       [5., 0.],\n",
       "       [6., 0.],\n",
       "       [0., 1.],\n",
       "       [1., 1.],\n",
       "       [2., 1.],\n",
       "       [3., 1.],\n",
       "       [4., 1.],\n",
       "       [5., 1.],\n",
       "       [6., 1.],\n",
       "       [0., 2.],\n",
       "       [1., 2.],\n",
       "       [2., 2.],\n",
       "       [3., 2.],\n",
       "       [4., 2.],\n",
       "       [5., 2.],\n",
       "       [6., 2.],\n",
       "       [0., 3.],\n",
       "       [1., 3.],\n",
       "       [2., 3.],\n",
       "       [3., 3.],\n",
       "       [4., 3.],\n",
       "       [5., 3.],\n",
       "       [6., 3.],\n",
       "       [0., 4.],\n",
       "       [1., 4.],\n",
       "       [2., 4.],\n",
       "       [3., 4.],\n",
       "       [4., 4.],\n",
       "       [5., 4.],\n",
       "       [6., 4.],\n",
       "       [0., 5.],\n",
       "       [1., 5.],\n",
       "       [2., 5.],\n",
       "       [3., 5.],\n",
       "       [4., 5.],\n",
       "       [5., 5.],\n",
       "       [6., 5.]], dtype=float32)"
      ]
     },
     "execution_count": 5,
     "metadata": {},
     "output_type": "execute_result"
    }
   ],
   "source": [
    "objp[:,:2]"
   ]
  },
  {
   "cell_type": "code",
   "execution_count": null,
   "id": "0c5e6b73-27b8-4006-b517-ee83c384df1a",
   "metadata": {},
   "outputs": [],
   "source": []
  }
 ],
 "metadata": {
  "kernelspec": {
   "display_name": "Python 3 (ipykernel)",
   "language": "python",
   "name": "python3"
  },
  "language_info": {
   "codemirror_mode": {
    "name": "ipython",
    "version": 3
   },
   "file_extension": ".py",
   "mimetype": "text/x-python",
   "name": "python",
   "nbconvert_exporter": "python",
   "pygments_lexer": "ipython3",
   "version": "3.11.7"
  }
 },
 "nbformat": 4,
 "nbformat_minor": 5
}
